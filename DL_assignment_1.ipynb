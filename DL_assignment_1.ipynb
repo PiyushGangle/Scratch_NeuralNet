{
 "cells": [
  {
   "cell_type": "markdown",
   "metadata": {},
   "source": [
    "Q-1. Download the CIFAR-10 dataset (https://www.cs.toronto.edu/~kriz/cifar.html). Hint:\n",
    "Use pickle library to load the dataset. [5 marks]"
   ]
  },
  {
   "cell_type": "code",
   "execution_count": 1,
   "metadata": {},
   "outputs": [],
   "source": [
    "# function using pickle to load dataset\n",
    "\n",
    "def unpickle(file):\n",
    "    import pickle\n",
    "    with open(file, 'rb') as fo:\n",
    "        dict = pickle.load(fo, encoding='bytes')\n",
    "    return dict"
   ]
  },
  {
   "cell_type": "code",
   "execution_count": 2,
   "metadata": {},
   "outputs": [],
   "source": [
    "#loading dataset into data_batch_1.....6 including test and training dataset.\n",
    "\n",
    "import numpy\n",
    "from collections import ChainMap\n",
    "\n",
    "file1=r'/home/piyushg/Codes/cifar-10-batches-py/data_batch_1'\n",
    "file2=r'/home/piyushg/Codes/cifar-10-batches-py/data_batch_2'\n",
    "file3=r'/home/piyushg/Codes/cifar-10-batches-py/data_batch_3'\n",
    "file4=r'/home/piyushg/Codes/cifar-10-batches-py/data_batch_4'\n",
    "file5=r'/home/piyushg/Codes/cifar-10-batches-py/data_batch_5'\n",
    "file6=r'/home/piyushg/Codes/cifar-10-batches-py/test_batch'\n",
    "\n",
    "data_batch_1=unpickle(file1)\n",
    "data_batch_2=unpickle(file2)\n",
    "data_batch_3=unpickle(file3)\n",
    "data_batch_4=unpickle(file4)\n",
    "data_batch_5=unpickle(file5)\n",
    "\n",
    "test_batch=unpickle(file6)"
   ]
  },
  {
   "cell_type": "code",
   "execution_count": 3,
   "metadata": {
    "scrolled": true
   },
   "outputs": [
    {
     "data": {
      "text/plain": [
       "<matplotlib.image.AxesImage at 0x7f1b9c2a0160>"
      ]
     },
     "execution_count": 3,
     "metadata": {},
     "output_type": "execute_result"
    },
    {
     "data": {
      "image/png": "[encoded data removed]",
      "text/plain": [
       "<Figure size 432x288 with 1 Axes>"
      ]
     },
     "metadata": {
      "needs_background": "light"
     },
     "output_type": "display_data"
    }
   ],
   "source": [
    "#Image preprocessing reshape and tranpose is performed\n",
    "import matplotlib.pyplot as plt\n",
    "\n",
    "#Processing whole batch\n",
    "data=data_batch_1[b'data']\n",
    "data1=data_batch_1[b'data']\n",
    "data2=data_batch_2[b'data']\n",
    "data3=data_batch_3[b'data']\n",
    "data4=data_batch_4[b'data']\n",
    "data5=data_batch_5[b'data']\n",
    "test=test_batch[b'data']\n",
    "\n",
    "data=data.reshape(len(data),3,32,32).transpose(0,2,3,1)\n",
    "data1=data1.reshape(len(data),3,32,32).transpose(0,2,3,1)\n",
    "data2=data2.reshape(len(data),3,32,32).transpose(0,2,3,1)\n",
    "data3=data3.reshape(len(data),3,32,32).transpose(0,2,3,1)\n",
    "data4=data4.reshape(len(data),3,32,32).transpose(0,2,3,1)\n",
    "data5=data5.reshape(len(data),3,32,32).transpose(0,2,3,1)\n",
    "\n",
    "test_data=test.reshape(len(test),3,32,32).transpose(0,2,3,1)\n",
    "\n",
    "plt.imshow(data1[9999])"
   ]
  },
  {
   "cell_type": "markdown",
   "metadata": {},
   "source": [
    "Q-2. Implement the image transformation methods mentioned below: [5x4=20 marks]\n",
    "(a) Random Rotation in the range [−180◦,180◦ ]\n",
    "(b) Random cutout (randomly erase a block of pixels from the image with the width and height\n",
    "of the block in the range 0 to 16 pixels. The erased part (cutout) should be filled with a\n",
    "single value)\n",
    "(c) Random Crop (Add a padding of 2 pixels on all sides and randomly select a block of 32x32\n",
    "pixels from the padded image)\n",
    "(d) Contrast & Horizontal flipping. (First, change the contrast of the image with a factor of\n",
    "α randomly selected from the range (0.5, 2.0) and then flip the image horizontally with a\n",
    "probability of 0.5"
   ]
  },
  {
   "cell_type": "code",
   "execution_count": 31,
   "metadata": {},
   "outputs": [
    {
     "data": {
      "text/plain": [
       "Text(0.5, 1.0, 'After rotation')"
      ]
     },
     "execution_count": 31,
     "metadata": {},
     "output_type": "execute_result"
    },
    {
     "data": {
      "image/png": "[encoded data removed]",
      "text/plain": [
       "<Figure size 432x288 with 2 Axes>"
      ]
     },
     "metadata": {
      "needs_background": "light"
     },
     "output_type": "display_data"
    }
   ],
   "source": [
    "#Function to implement Rotation operation \n",
    "import numpy as np\n",
    "import math\n",
    "import random\n",
    "\n",
    "def rotation(picture):\n",
    "    image = picture.copy()             # deep copy is done to load image\n",
    "    angle=random.randint(-180,180)               # random angle generation withtin range -180 to 180\n",
    "\n",
    "    angle=math.radians(angle)                               #degree to radian conversion\n",
    "    cosine=math.cos(angle)\n",
    "    sine=math.sin(angle)\n",
    "    height=image.shape[0]                                   #height of the image\n",
    "    width=image.shape[1]                                    #width of the image\n",
    "\n",
    "    # Define the height and width of the new image that is to be formed\n",
    "    new_height  = round(abs(image.shape[0]*cosine)+abs(image.shape[1]*sine))+1\n",
    "    new_width  = round(abs(image.shape[1]*cosine)+abs(image.shape[0]*sine))+1\n",
    "\n",
    "    # define another image variable of dimensions of new_height and new _column filled with zeros\n",
    "    output=np.zeros((new_height,new_width,image.shape[2]))\n",
    "\n",
    "    # Find the centre of the image about which we have to rotate the image\n",
    "    original_centre_height   = round(((image.shape[0]+1)/2)-1)    #with respect to the original image\n",
    "    original_centre_width    = round(((image.shape[1]+1)/2)-1)    #with respect to the original image\n",
    "\n",
    "    # Find the centre of the new image that will be obtained\n",
    "    new_centre_height= round(((new_height+1)/2)-1)        #with respect to the new image\n",
    "    new_centre_width= round(((new_width+1)/2)-1)          #with respect to the new image\n",
    "\n",
    "    for i in range(height):\n",
    "        for j in range(width):\n",
    "            #co-ordinates of pixel with respect to the centre of original image\n",
    "            y=image.shape[0]-1-i-original_centre_height                   \n",
    "            x=image.shape[1]-1-j-original_centre_width                      \n",
    "\n",
    "            #co-ordinate of pixel with respect to the rotated image\n",
    "            new_y=round(-x*sine+y*cosine)\n",
    "            new_x=round(x*cosine+y*sine)\n",
    "\n",
    "            '''since image will be rotated the centre will change too, \n",
    "               so to adust to that we will need to change new_x and new_y with respect to the new centre'''\n",
    "            new_y=new_centre_height-new_y\n",
    "            new_x=new_centre_width-new_x\n",
    "\n",
    "            # adding if check to prevent any errors in the processing\n",
    "            if 0 <= new_x < new_width and 0 <= new_y < new_height and new_x>=0 and new_y>=0:\n",
    "                output[new_y,new_x,:]=image[i,j,:]                          #writing the pixels to the new destination in the output image\n",
    "    return output.astype('uint8')\n",
    "\n",
    "plt.figure()\n",
    "plt.subplot(1,2,1)\n",
    "plt.imshow(data[9999])\n",
    "plt.title('Original')\n",
    "\n",
    "plt.subplot(1,2,2)\n",
    "plt.imshow(rotation(data[9999]))\n",
    "plt.title('After rotation')\n"
   ]
  },
  {
   "cell_type": "code",
   "execution_count": 17,
   "metadata": {},
   "outputs": [
    {
     "data": {
      "text/plain": [
       "Text(0.5, 1.0, 'After random cutout')"
      ]
     },
     "execution_count": 17,
     "metadata": {},
     "output_type": "execute_result"
    },
    {
     "data": {
      "image/png": "[encoded data removed]",
      "text/plain": [
       "<Figure size 432x288 with 2 Axes>"
      ]
     },
     "metadata": {
      "needs_background": "light"
     },
     "output_type": "display_data"
    }
   ],
   "source": [
    "#Function to implement Random cutout operation \n",
    "import random\n",
    "\n",
    "#plt.imshow(data[9994])\n",
    "\n",
    "def extractSubMatrix(matrix):\n",
    "    w=random.randint(0,16)\n",
    "    h=random.randint(0,16)\n",
    "    start=random.randint(0,31)\n",
    "\n",
    "    result=matrix.copy()\n",
    "    result[start:w+1,start:h+1,:]=0     #Setting cutout area as black\n",
    "    return result\n",
    "\n",
    "#plt.imshow()\n",
    "\n",
    "plt.figure()\n",
    "plt.subplot(1,2,1)\n",
    "plt.imshow(data[9999])\n",
    "plt.title('Original')\n",
    "\n",
    "plt.subplot(1,2,2)\n",
    "plt.imshow(extractSubMatrix(data[9999]))\n",
    "plt.title('After random cutout')\n"
   ]
  },
  {
   "cell_type": "code",
   "execution_count": 18,
   "metadata": {
    "scrolled": false
   },
   "outputs": [
    {
     "data": {
      "text/plain": [
       "Text(0.5, 1.0, 'After random crop')"
      ]
     },
     "execution_count": 18,
     "metadata": {},
     "output_type": "execute_result"
    },
    {
     "data": {
      "image/png": "[encoded data removed]",
      "text/plain": [
       "<Figure size 432x288 with 2 Axes>"
      ]
     },
     "metadata": {
      "needs_background": "light"
     },
     "output_type": "display_data"
    }
   ],
   "source": [
    "#Function to implement Random crop operation \n",
    "import numpy as np\n",
    "import random\n",
    "\n",
    "def RandomCrop(image):\n",
    "    new_array= np.zeros((36, 36, 3))  #Creating new 36*36 new Image(2pixel padding is added on all edges)\n",
    "    for p in range(3):\n",
    "        for q in range(32):\n",
    "            for r in range(32):\n",
    "                new_array[q+2][r+2][p]=image[q][r][p]\n",
    "    \n",
    "    rw=random.randint(0,2)       \n",
    "    rh=random.randint(0,2)\n",
    "    final_array=new_array[rw:,rh:,:]\n",
    "    \n",
    "    return final_array.astype('uint8')\n",
    "\n",
    "plt.figure()\n",
    "plt.subplot(1,2,1)\n",
    "plt.imshow(data[8000])\n",
    "plt.title('Original')\n",
    "\n",
    "plt.subplot(1,2,2)\n",
    "plt.imshow(RandomCrop(data[8000]))\n",
    "plt.title('After random crop')\n"
   ]
  },
  {
   "cell_type": "code",
   "execution_count": 29,
   "metadata": {
    "scrolled": true
   },
   "outputs": [
    {
     "data": {
      "text/plain": [
       "Text(0.5, 1.0, 'After Contrast & Flip')"
      ]
     },
     "execution_count": 29,
     "metadata": {},
     "output_type": "execute_result"
    },
    {
     "data": {
      "image/png": "[encoded data removed]",
      "text/plain": [
       "<Figure size 432x288 with 2 Axes>"
      ]
     },
     "metadata": {
      "needs_background": "light"
     },
     "output_type": "display_data"
    }
   ],
   "source": [
    "#Function to implement Contrast and horizontal flipping operation \n",
    "import numpy as np\n",
    "import random\n",
    "def Contrast_Flip(image_6):\n",
    "    coin=random.randint(0,1) #if coin=1 comes flip image else don't flip\n",
    "    image_c=image_6.copy()\n",
    "    aplha=random.uniform(0.5,2.0)\n",
    "    for p in range(3):\n",
    "        for q in range(32):\n",
    "            for r in range(32):\n",
    "                image_c[q][r][p]=aplha*(image_c[q][r][p]-128)+128\n",
    "    new_arr = ((image_c - image_c.min()) * (1/(image_c.max() - image_c.min()) * 255)).astype('uint8')\n",
    "    if (coin):\n",
    "        new_arr=new_arr[:,::-1,:]\n",
    "    return new_arr\n",
    "\n",
    "plt.figure()\n",
    "plt.subplot(1,2,1)\n",
    "plt.imshow(data[8062])\n",
    "plt.title('Original')\n",
    "\n",
    "plt.subplot(1,2,2)\n",
    "plt.imshow(Contrast_Flip(data[8062]))\n",
    "plt.title('After Contrast & Flip')\n"
   ]
  },
  {
   "cell_type": "markdown",
   "metadata": {},
   "source": [
    "Q-3. Create the augmented training set using the transformation functions implemented in the pre-\n",
    "vious part. Randomly select one of the four transformations for each image in the training set\n",
    "and apply it to that image. Combine the transformed images with original training set to get the\n",
    "augmented training set. Note that the number of examples for the augmented training set will\n",
    "be twice that of the unaugmented training set. [10 marks]"
   ]
  },
  {
   "cell_type": "code",
   "execution_count": 30,
   "metadata": {
    "scrolled": false
   },
   "outputs": [],
   "source": [
    "#Augmented dataset geneneration\n",
    "\n",
    "import random\n",
    "\n",
    "functions = [rotation,extractSubMatrix,RandomCrop,Contrast_Flip]    #All four function inside a single list\n",
    "aug_data_set1={}\n",
    "aug_data_set2={}\n",
    "aug_data_set3={}\n",
    "aug_data_set4={}\n",
    "aug_data_set5={}\n",
    "\n",
    "#plt.imshow(random.choice(functions)(data[4000]))   #Randomly selecting a function and applying on a sample image\n",
    "\n",
    "for i in range(10000):\n",
    "    aug_data_set1[i]=(random.choice(functions)(data1[i]))\n",
    "    aug_data_set2[i]=(random.choice(functions)(data2[i]))\n",
    "    aug_data_set3[i]=(random.choice(functions)(data3[i]))\n",
    "    aug_data_set4[i]=(random.choice(functions)(data4[i]))\n",
    "    aug_data_set5[i]=(random.choice(functions)(data5[i]))\n",
    "\n",
    "#data_set.shape()"
   ]
  },
  {
   "cell_type": "code",
   "execution_count": 20,
   "metadata": {},
   "outputs": [],
   "source": [
    "#Saving augmented data set into file system\n",
    "import pickle\n",
    "file1 = open(\"aug_data_batch_1.bin\", \"wb\")\n",
    "file2 = open(\"aug_data_batch_2.bin\", \"wb\")\n",
    "file3 = open(\"aug_data_batch_3.bin\", \"wb\")\n",
    "file4 = open(\"aug_data_batch_4.bin\", \"wb\")\n",
    "file5 = open(\"aug_data_batch_5.bin\", \"wb\")\n",
    "\n",
    "\n",
    "pickle.dump(aug_data_set1, file1)\n",
    "pickle.dump(aug_data_set2, file2)\n",
    "pickle.dump(aug_data_set3, file3)\n",
    "pickle.dump(aug_data_set4, file4)\n",
    "pickle.dump(aug_data_set5, file5)\n",
    "\n",
    "file1.close()\n",
    "file2.close()\n",
    "file3.close()\n",
    "file4.close()\n",
    "file5.close()"
   ]
  },
  {
   "cell_type": "code",
   "execution_count": 43,
   "metadata": {},
   "outputs": [
    {
     "data": {
      "text/plain": [
       "<matplotlib.image.AxesImage at 0x7f2267a123d0>"
      ]
     },
     "execution_count": 43,
     "metadata": {},
     "output_type": "execute_result"
    },
    {
     "data": {
      "image/png": "[encoded data removed]",
      "text/plain": [
       "<Figure size 432x288 with 1 Axes>"
      ]
     },
     "metadata": {
      "needs_background": "light"
     },
     "output_type": "display_data"
    }
   ],
   "source": [
    "#Reading saved augmented data set\n",
    "import pickle\n",
    "import numpy as np\n",
    "a_file = open(\"aug_data_batch_1.bin\", \"rb\")\n",
    "b_file = open(\"aug_data_batch_2.bin\", \"rb\")\n",
    "c_file = open(\"aug_data_batch_3.bin\", \"rb\")\n",
    "d_file = open(\"aug_data_batch_4.bin\", \"rb\")\n",
    "e_file = open(\"aug_data_batch_5.bin\", \"rb\")\n",
    "\n",
    "output1 = pickle.load(a_file)\n",
    "output2 = pickle.load(b_file)\n",
    "output3 = pickle.load(c_file)\n",
    "output4 = pickle.load(d_file)\n",
    "output5 = pickle.load(e_file)\n",
    "\n",
    "for i in range(10000):\n",
    "    output1[i]=output1[i]/255\n",
    "    output2[i]=output2[i]/255\n",
    "    output3[i]=output3[i]/255\n",
    "    output4[i]=output4[i]/255\n",
    "    output5[i]=output5[i]/255\n",
    "\n",
    "plt.imshow(output1[9999])"
   ]
  },
  {
   "cell_type": "markdown",
   "metadata": {},
   "source": [
    "Q-4 Use the feature extractor.py file provided with the assignment on the original (unaugmented)\n",
    "CIFAR-10 dataset and on the augmented dataset to get 1-dimensional input vectors. You can\n",
    "ignore the implementation of feature extractor.py and use it directly. [10 Marks]\n",
    "Instructions for using feature-extractor.py:\n",
    "• Refer to this page : https://pytorch.org/get-started/locally/ for installing the required de-\n",
    "pendencies of PyTorch. However, if you are using Google Colab or Kaggle for running\n",
    "your code then you do not need to install PyTorch there, as these environments supports\n",
    "PyTorch.\n",
    "2• The feature extractor.py accepts images of size (3×224×224) [Channel×Height×Width].\n",
    "Use image processing libraries like PIL, CV2 to resize the CIFAR images from (3×32×32)\n",
    "to (3 × 224 × 224).\n",
    "• Pass the resized images to feature extraction function of BBResNet18 class to generate\n",
    "feature vectors\n",
    "• feature extraction: function expects each image is a numpy.ndarray of dtype: numpy.float32\n",
    "and shape: [None, 3, 224, 224], where: None represents a variable size. It returns a\n",
    "numpy.ndarray of dtype: numpy.float32 and shape: [None, 512]."
   ]
  },
  {
   "cell_type": "code",
   "execution_count": 32,
   "metadata": {},
   "outputs": [],
   "source": [
    "#feature_extractor.py\n",
    "\n",
    "import torch\n",
    "import torch.nn as nn\n",
    "import numpy as np\n",
    "import torchvision\n",
    "from torchvision.models import resnet18\n",
    "\n",
    "def get_name_to_module(model):\n",
    "    name_to_module = {}\n",
    "    for m in model.named_modules():\n",
    "        name_to_module[m[0]] = m[1]\n",
    "    return name_to_module\n",
    "\n",
    "\n",
    "def get_activation(all_outputs, name):\n",
    "    def hook(model, input, output):\n",
    "        all_outputs[name] = output.detach()\n",
    "\n",
    "    return hook\n",
    "\n",
    "\n",
    "def add_hooks(model, outputs, output_layer_names):\n",
    "    \"\"\"\n",
    "    :param model:\n",
    "    :param outputs: Outputs from layers specified in `output_layer_names` will be stored in `output` variable\n",
    "    :param output_layer_names:\n",
    "    :return:\n",
    "    \"\"\"\n",
    "    name_to_module = get_name_to_module(model)\n",
    "    for output_layer_name in output_layer_names:\n",
    "        name_to_module[output_layer_name].register_forward_hook(get_activation(outputs, output_layer_name))\n",
    "\n",
    "\n",
    "class ModelWrapper(nn.Module):\n",
    "    def __init__(self, model, output_layer_names, return_single=True):\n",
    "        super(ModelWrapper, self).__init__()\n",
    "        \n",
    "        self.model = model\n",
    "        self.output_layer_names = output_layer_names\n",
    "        self.outputs = {}\n",
    "        self.return_single = return_single\n",
    "        add_hooks(self.model, self.outputs, self.output_layer_names)\n",
    "\n",
    "    def forward(self, images):\n",
    "        self.model(images)\n",
    "        output_vals = [self.outputs[output_layer_name] for output_layer_name in self.output_layer_names]\n",
    "        if self.return_single:\n",
    "            return output_vals[0]\n",
    "        else:\n",
    "            return output_vals\n",
    "\n",
    "class BBResNet18(object):\n",
    "    def __init__(self):\n",
    "        self.model = resnet18(pretrained=True)\n",
    "        self.device = torch.device('cuda:0' if torch.cuda.is_available() else 'cpu')\n",
    "        self.model.eval()\n",
    "\n",
    "        self.model = ModelWrapper(self.model, ['avgpool'], True)\n",
    "\n",
    "        self.model.eval()\n",
    "        self.model.to(self.device)\n",
    "\n",
    "    def feature_extraction(self, x:np.ndarray):\n",
    "        '''\n",
    "            param:\n",
    "                x: numpy ndarray of shape: [None, 3, 224, 224] and dtype: np.float32\n",
    "            \n",
    "            return:\n",
    "                numpy ndarray (feature vector) of shape: [None, 512] and dtype: np.float32\n",
    "        '''\n",
    "        \n",
    "        x = torch.from_numpy(x).to(self.device)\n",
    "        \n",
    "        with torch.no_grad():\n",
    "            out = self.model(x).cpu().detach()\n",
    "            out = out.view(out.size(0), -1)\n",
    "            out = out.numpy()\n",
    "\n",
    "        return out"
   ]
  },
  {
   "cell_type": "code",
   "execution_count": 33,
   "metadata": {},
   "outputs": [],
   "source": [
    "#Function to configure images to make compatible with feature_extractor.py\n",
    "from PIL import Image\n",
    "import numpy as np\n",
    "\n",
    "def change_dim(W):\n",
    "    im=Image.fromarray(W) #converting matrix into image \n",
    "    im=im.resize((224,224))                 #resizing that image\n",
    "    image_array = ((np.array(im)).transpose(2,0,1)).reshape(1,3,224,224) #Getting format of(3,224,224)\n",
    "    image_array=image_array.astype('float32')\n",
    "    return image_array\n"
   ]
  },
  {
   "cell_type": "code",
   "execution_count": 34,
   "metadata": {},
   "outputs": [],
   "source": [
    "#Feature extraction for main data set\n",
    "import numpy as np\n",
    "obj1=BBResNet18()\n",
    "\n",
    "extra_features=np.empty((50000,512))\n",
    "for i in range(10000):\n",
    "    extra_features[i]=obj1.feature_extraction(change_dim(data1[i]))\n",
    "    extra_features[i+10000]=obj1.feature_extraction(change_dim(data2[i]))\n",
    "    extra_features[i+20000]=obj1.feature_extraction(change_dim(data3[i]))\n",
    "    extra_features[i+30000]=obj1.feature_extraction(change_dim(data4[i]))\n",
    "    extra_features[i+40000]=obj1.feature_extraction(change_dim(data5[i]))"
   ]
  },
  {
   "cell_type": "code",
   "execution_count": 35,
   "metadata": {},
   "outputs": [],
   "source": [
    "#Saving Extracted feature for main dataset into filesystem\n",
    "import pickle\n",
    "filex = open(\"aug1.bin\", \"wb\")\n",
    "pickle.dump(extra_features, filex)\n",
    "filex.close()"
   ]
  },
  {
   "cell_type": "code",
   "execution_count": 28,
   "metadata": {
    "scrolled": false
   },
   "outputs": [],
   "source": [
    "#Feature extraction for Augmented data set\n",
    "import numpy as np\n",
    "obj2=BBResNet18()\n",
    "\n",
    "extra_features_aug=np.empty((50000,512))\n",
    "for i in range(10000):\n",
    "    extra_features_aug[i]=obj2.feature_extraction(change_dim(aug_data_set1[i]))\n",
    "    extra_features_aug[i+10000]=obj2.feature_extraction(change_dim(aug_data_set2[i]))\n",
    "    extra_features_aug[i+20000]=obj2.feature_extraction(change_dim(aug_data_set3[i]))\n",
    "    extra_features_aug[i+30000]=obj2.feature_extraction(change_dim(aug_data_set4[i]))\n",
    "    extra_features_aug[i+40000]=obj2.feature_extraction(change_dim(aug_data_set5[i]))"
   ]
  },
  {
   "cell_type": "code",
   "execution_count": 37,
   "metadata": {},
   "outputs": [],
   "source": [
    "#Feature extraction for Test data set\n",
    "import numpy as np\n",
    "obj2=BBResNet18()\n",
    "extra_features_test=np.empty((10000,512))\n",
    "for i in range(10000):\n",
    "    extra_features_test[i]=obj2.feature_extraction(change_dim(test_data[i]))"
   ]
  },
  {
   "cell_type": "code",
   "execution_count": 38,
   "metadata": {},
   "outputs": [],
   "source": [
    "#Saving Extracted feature for Test data set into filesystem\n",
    "import pickle\n",
    "filey = open(\"aug3.bin\", \"wb\")\n",
    "pickle.dump(extra_features_test, filey)\n",
    "filey.close()"
   ]
  },
  {
   "cell_type": "code",
   "execution_count": 31,
   "metadata": {},
   "outputs": [],
   "source": [
    "#Saving Extracted feature for Augmented data set into filesystem\n",
    "import pickle\n",
    "filey = open(\"aug2.bin\", \"wb\")\n",
    "pickle.dump(extra_features_aug, filey)\n",
    "filey.close()\n"
   ]
  },
  {
   "cell_type": "code",
   "execution_count": 8,
   "metadata": {},
   "outputs": [
    {
     "name": "stdout",
     "output_type": "stream",
     "text": [
      "(10000, 512)\n"
     ]
    }
   ],
   "source": [
    "#loading Extracted Test feature from saved file\n",
    "import pickle\n",
    "feature_file = open(\"aug3.bin\", \"rb\")\n",
    "featurev3 = pickle.load(feature_file)\n",
    "print(featurev3.shape)\n",
    "feature_file.close()"
   ]
  },
  {
   "cell_type": "code",
   "execution_count": 6,
   "metadata": {},
   "outputs": [
    {
     "name": "stdout",
     "output_type": "stream",
     "text": [
      "(50000, 512)\n"
     ]
    }
   ],
   "source": [
    "#loading Main trainngset Extracted feature from saved file\n",
    "import pickle\n",
    "feature_file = open(\"aug1.bin\", \"rb\")\n",
    "featurev1 = pickle.load(feature_file)\n",
    "print(featurev1.shape)\n",
    "feature_file.close()"
   ]
  },
  {
   "cell_type": "code",
   "execution_count": 63,
   "metadata": {},
   "outputs": [
    {
     "name": "stdout",
     "output_type": "stream",
     "text": [
      "(50000, 512)\n"
     ]
    }
   ],
   "source": [
    "#loading Augmented dataset Extracted feature from saved file\n",
    "import pickle\n",
    "feature_file2 = open(\"aug2.bin\", \"rb\")\n",
    "featurev2 = pickle.load(feature_file2)\n",
    "print(featurev2.shape)\n",
    "feature_file2.close()"
   ]
  },
  {
   "cell_type": "markdown",
   "metadata": {},
   "source": [
    "Q-5. Implement a multi-layer perceptron (MLP) for classification of CIFAR-10 images. Use only a\n",
    "single hidden layer with 64 neurons and ReLu activation function. The input to this MLP will\n",
    "be the 1-dimensional vectors generated in the previous step. [10 Marks]"
   ]
  },
  {
   "cell_type": "code",
   "execution_count": 4,
   "metadata": {},
   "outputs": [
    {
     "name": "stderr",
     "output_type": "stream",
     "text": [
      "2022-02-03 14:07:29.068762: W tensorflow/stream_executor/platform/default/dso_loader.cc:64] Could not load dynamic library 'libcudart.so.11.0'; dlerror: libcudart.so.11.0: cannot open shared object file: No such file or directory\n",
      "2022-02-03 14:07:29.068900: I tensorflow/stream_executor/cuda/cudart_stub.cc:29] Ignore above cudart dlerror if you do not have a GPU set up on your machine.\n"
     ]
    }
   ],
   "source": [
    "from keras.datasets import cifar10\n",
    "from keras.utils import np_utils\n",
    "\n",
    "# load the dataset\n",
    "(x_train,y_train),(x_test,y_test)=cifar10.load_data()\n",
    "\n",
    "# One hot encoding\n",
    "nClasses=10\n",
    "y_train=np_utils.to_categorical(y_train,nClasses)\n",
    "y_test=np_utils.to_categorical(y_test,nClasses)\n"
   ]
  },
  {
   "cell_type": "code",
   "execution_count": 9,
   "metadata": {},
   "outputs": [
    {
     "name": "stdout",
     "output_type": "stream",
     "text": [
      "shape of X_train : (512, 50000)\n",
      "shape of Y_train : (10, 50000)\n",
      "shape of X_test : (512, 10000)\n",
      "shape of Y_test : (10, 10000)\n"
     ]
    }
   ],
   "source": [
    "import numpy as np\n",
    "import matplotlib.pyplot as plt\n",
    "import random\n",
    "\n",
    "X_train = (featurev1).T\n",
    "Y_train = y_train.T\n",
    "\n",
    "X_test = (featurev3).T\n",
    "Y_test = y_test.T\n",
    "\n",
    "print(\"shape of X_train :\", X_train.shape)\n",
    "print(\"shape of Y_train :\", Y_train.shape)\n",
    "print(\"shape of X_test :\", X_test.shape)\n",
    "print(\"shape of Y_test :\", Y_test.shape)\n",
    "\n",
    "def relu(x):\n",
    "    return np.maximum(x, 0)\n",
    "\n",
    "def softmax(x):\n",
    "    expX = np.exp(x)\n",
    "    return expX/np.sum(expX, axis = 0)\n",
    "\n",
    "def derivative_relu(x):\n",
    "    return np.array(x > 0, dtype = np.float32)\n",
    "\n",
    "def initialize_parameters(n_x, n_h, n_y):\n",
    "    w1 = np.random.randn(n_h, n_x)*0.01\n",
    "    b1 = np.zeros((n_h, 1))\n",
    "    \n",
    "    w2 = np.random.randn(n_y, n_h)*0.01\n",
    "    b2 = np.zeros((n_y, 1))\n",
    "    \n",
    "    parameters = {\n",
    "        \"w1\" : w1,\n",
    "        \"b1\" : b1,\n",
    "        \"w2\" : w2,\n",
    "        \"b2\" : b2\n",
    "    }\n",
    "    \n",
    "    return parameters\n",
    "\n",
    "def forward_propagation(x, parameters):\n",
    "    \n",
    "    w1 = parameters['w1']\n",
    "    b1 = parameters['b1']\n",
    "    w2 = parameters['w2']\n",
    "    b2 = parameters['b2']\n",
    "    \n",
    "    z1 = np.dot(w1, x) + b1\n",
    "    a1 = relu(z1)\n",
    "    \n",
    "    z2 = np.dot(w2, a1) + b2\n",
    "    a2 = softmax(z2)\n",
    "    \n",
    "    forward_cache = {\n",
    "        \"z1\" : z1,\n",
    "        \"a1\" : a1,\n",
    "        \"z2\" : z2,\n",
    "        \"a2\" : a2\n",
    "    }\n",
    "    \n",
    "    return forward_cache\n",
    "\n",
    "def cost_function(a2, y):\n",
    "    m = y.shape[1]\n",
    "    \n",
    "    cost = -(1/m)*np.sum(y*np.log(a2))\n",
    "    \n",
    "    #cost = -(1/m)*np.sum(np.sum(y*np.log(a2, 0), 1))\n",
    "    \n",
    "    return cost\n",
    "\n",
    "def backward_prop(x, y, parameters, forward_cache):\n",
    "    \n",
    "    w1 = parameters['w1']\n",
    "    b1 = parameters['b1']\n",
    "    w2 = parameters['w2']\n",
    "    b2 = parameters['b2']\n",
    "    \n",
    "    a1 = forward_cache['a1']\n",
    "    a2 = forward_cache['a2']\n",
    "    \n",
    "    m = x.shape[1]\n",
    "    \n",
    "    dz2 = (a2 - y)\n",
    "    dw2 = (1/m)*np.dot(dz2, a1.T)\n",
    "    db2 = (1/m)*np.sum(dz2, axis = 1, keepdims = True)\n",
    "    \n",
    "    dz1 = (1/m)*np.dot(w2.T, dz2)*derivative_relu(a1)\n",
    "    dw1 = (1/m)*np.dot(dz1, x.T)\n",
    "    db1 = (1/m)*np.sum(dz1, axis = 1, keepdims = True)\n",
    "    \n",
    "    gradients = {\n",
    "        \"dw1\" : dw1,\n",
    "        \"db1\" : db1,\n",
    "        \"dw2\" : dw2,\n",
    "        \"db2\" : db2\n",
    "    }\n",
    "    \n",
    "    return gradients\n",
    "\n",
    "def update_parameters(parameters, gradients, learning_rate):\n",
    "    \n",
    "    w1 = parameters['w1']\n",
    "    b1 = parameters['b1']\n",
    "    w2 = parameters['w2']\n",
    "    b2 = parameters['b2']\n",
    "    \n",
    "    dw1 = gradients['dw1']\n",
    "    db1 = gradients['db1']\n",
    "    dw2 = gradients['dw2']\n",
    "    db2 = gradients['db2']\n",
    "    \n",
    "    w1 = w1 - learning_rate*dw1\n",
    "    b1 = b1 - learning_rate*db1\n",
    "    w2 = w2 - learning_rate*dw2\n",
    "    b2 = b2 - learning_rate*db2\n",
    "    \n",
    "    parameters = {\n",
    "        \"w1\" : w1,\n",
    "        \"b1\" : b1,\n",
    "        \"w2\" : w2,\n",
    "        \"b2\" : b2\n",
    "    }\n",
    "    \n",
    "    return parameters\n",
    "\n",
    "def model(x, y, n_h, learning_rate, iterations):\n",
    "    \n",
    "    n_x = x.shape[0]\n",
    "    n_y = y.shape[0]\n",
    "    \n",
    "    cost_list = []\n",
    "    \n",
    "    parameters = initialize_parameters(n_x, n_h, n_y)\n",
    "    \n",
    "    for i in range(iterations):\n",
    "        \n",
    "        forward_cache = forward_propagation(x, parameters)\n",
    "        \n",
    "        cost = cost_function(forward_cache['a2'], y)\n",
    "        \n",
    "        gradients = backward_prop(x, y, parameters, forward_cache)\n",
    "        \n",
    "        parameters = update_parameters(parameters, gradients, learning_rate)\n",
    "        \n",
    "        cost_list.append(cost)\n",
    "        \n",
    "        if(i%(iterations/10) == 0):\n",
    "            print(\"Cost after\", i, \"iterations is :\", cost)\n",
    "        \n",
    "    return parameters, cost_list\n",
    "\n",
    "def accuracy(inp, labels, parameters):\n",
    "    forward_cache = forward_propagation(inp, parameters)\n",
    "    a_out = forward_cache['a2']   # containes propabilities with shape(10, 1)\n",
    "    \n",
    "    a_out = np.argmax(a_out, 0)  # 0 represents row wise \n",
    "    \n",
    "    labels = np.argmax(labels, 0)\n",
    "    \n",
    "    acc = np.mean(a_out == labels)*100\n",
    "    \n",
    "    return acc"
   ]
  },
  {
   "cell_type": "markdown",
   "metadata": {},
   "source": [
    "Q-6. Implement the back-propagation algorithm and use it to train the MLP model on: [20 marks]\n",
    "(a) original training set\n",
    "(b) augmented training set\n",
    "You are not allowed to use built in functions that performs back propagation directly. You should\n",
    "write your own back propagation algorithm."
   ]
  },
  {
   "cell_type": "code",
   "execution_count": 43,
   "metadata": {},
   "outputs": [
    {
     "name": "stdout",
     "output_type": "stream",
     "text": [
      "shape of X_train : (512, 50000)\n",
      "shape of Y_train : (10, 50000)\n",
      "shape of X_test : (512, 10000)\n",
      "shape of Y_test : (10, 10000)\n"
     ]
    }
   ],
   "source": [
    "import numpy as np\n",
    "import matplotlib.pyplot as plt\n",
    "import random\n",
    "\n",
    "X_train = (featurev1).T   #Training(Unaugmented) dataset extracted feature vector\n",
    "Y_train = y_train.T       #one hot encoded class of training dataset\n",
    "\n",
    "X_test = (featurev3).T   #Test dataset extracted feature vector\n",
    "Y_test = y_test.T        #one hot encoded class of Test dataset \n",
    "\n",
    "print(\"shape of X_train :\", X_train.shape)\n",
    "print(\"shape of Y_train :\", Y_train.shape)\n",
    "print(\"shape of X_test :\", X_test.shape)\n",
    "print(\"shape of Y_test :\", Y_test.shape)\n",
    "\n",
    "def relu(x):\n",
    "    return np.maximum(x, 0)\n",
    "\n",
    "def softmax(x):\n",
    "    expX = np.exp(x)\n",
    "    return expX/np.sum(expX, axis = 0)\n",
    "\n",
    "def derivative_relu(x):\n",
    "    return np.array(x > 0, dtype = np.float32)\n",
    "\n",
    "def initialize_parameters(n_x, n_h, n_y):\n",
    "    w1 = np.random.randn(n_h, n_x)*0.01\n",
    "    b1 = np.zeros((n_h, 1))\n",
    "    \n",
    "    w2 = np.random.randn(n_y, n_h)*0.01\n",
    "    b2 = np.zeros((n_y, 1))\n",
    "    \n",
    "    parameters = {\n",
    "        \"w1\" : w1,\n",
    "        \"b1\" : b1,\n",
    "        \"w2\" : w2,\n",
    "        \"b2\" : b2\n",
    "    }\n",
    "    \n",
    "    return parameters\n",
    "\n",
    "def forward_propagation(x, parameters):\n",
    "    \n",
    "    w1 = parameters['w1']\n",
    "    b1 = parameters['b1']\n",
    "    w2 = parameters['w2']\n",
    "    b2 = parameters['b2']\n",
    "    \n",
    "    z1 = np.dot(w1, x) + b1\n",
    "    a1 = relu(z1)\n",
    "    \n",
    "    z2 = np.dot(w2, a1) + b2\n",
    "    a2 = softmax(z2)\n",
    "    \n",
    "    forward_cache = {\n",
    "        \"z1\" : z1,\n",
    "        \"a1\" : a1,\n",
    "        \"z2\" : z2,\n",
    "        \"a2\" : a2\n",
    "    }\n",
    "    \n",
    "    return forward_cache\n",
    "\n",
    "def cost_function(a2, y):\n",
    "    m = y.shape[1]\n",
    "    \n",
    "    cost = -(1/m)*np.sum(y*np.log(a2))\n",
    "    \n",
    "    #cost = -(1/m)*np.sum(np.sum(y*np.log(a2, 0), 1))\n",
    "    \n",
    "    return cost\n",
    "\n",
    "def backward_prop(x, y, parameters, forward_cache):\n",
    "    \n",
    "    w1 = parameters['w1']\n",
    "    b1 = parameters['b1']\n",
    "    w2 = parameters['w2']\n",
    "    b2 = parameters['b2']\n",
    "    \n",
    "    a1 = forward_cache['a1']\n",
    "    a2 = forward_cache['a2']\n",
    "    \n",
    "    m = x.shape[1]\n",
    "    \n",
    "    dz2 = (a2 - y)\n",
    "    dw2 = (1/m)*np.dot(dz2, a1.T)\n",
    "    db2 = (1/m)*np.sum(dz2, axis = 1, keepdims = True)\n",
    "    \n",
    "    dz1 = (1/m)*np.dot(w2.T, dz2)*derivative_relu(a1)\n",
    "    dw1 = (1/m)*np.dot(dz1, x.T)\n",
    "    db1 = (1/m)*np.sum(dz1, axis = 1, keepdims = True)\n",
    "    \n",
    "    gradients = {\n",
    "        \"dw1\" : dw1,\n",
    "        \"db1\" : db1,\n",
    "        \"dw2\" : dw2,\n",
    "        \"db2\" : db2\n",
    "    }\n",
    "    \n",
    "    return gradients\n",
    "\n",
    "def update_parameters(parameters, gradients, learning_rate):\n",
    "    \n",
    "    w1 = parameters['w1']\n",
    "    b1 = parameters['b1']\n",
    "    w2 = parameters['w2']\n",
    "    b2 = parameters['b2']\n",
    "    \n",
    "    dw1 = gradients['dw1']\n",
    "    db1 = gradients['db1']\n",
    "    dw2 = gradients['dw2']\n",
    "    db2 = gradients['db2']\n",
    "    \n",
    "    w1 = w1 - learning_rate*dw1\n",
    "    b1 = b1 - learning_rate*db1\n",
    "    w2 = w2 - learning_rate*dw2\n",
    "    b2 = b2 - learning_rate*db2\n",
    "    \n",
    "    parameters = {\n",
    "        \"w1\" : w1,\n",
    "        \"b1\" : b1,\n",
    "        \"w2\" : w2,\n",
    "        \"b2\" : b2\n",
    "    }\n",
    "    \n",
    "    return parameters\n",
    "\n",
    "def model(x, y, n_h, learning_rate, iterations):\n",
    "    \n",
    "    n_x = x.shape[0]\n",
    "    n_y = y.shape[0]\n",
    "    \n",
    "    cost_list = []\n",
    "    \n",
    "    parameters = initialize_parameters(n_x, n_h, n_y)\n",
    "    \n",
    "    for i in range(iterations):\n",
    "        \n",
    "        forward_cache = forward_propagation(x, parameters)\n",
    "        \n",
    "        cost = cost_function(forward_cache['a2'], y)\n",
    "        \n",
    "        gradients = backward_prop(x, y, parameters, forward_cache)\n",
    "        \n",
    "        parameters = update_parameters(parameters, gradients, learning_rate)\n",
    "        \n",
    "        cost_list.append(cost)\n",
    "        \n",
    "        if(i%(iterations/10) == 0):\n",
    "            print(\"Cost after\", i, \"iterations is :\", cost)\n",
    "        \n",
    "    return parameters, cost_list\n",
    "\n",
    "def accuracy(inp, labels, parameters):\n",
    "    forward_cache = forward_propagation(inp, parameters)\n",
    "    a_out = forward_cache['a2']   # containes propabilities with shape(10, 1)\n",
    "    \n",
    "    a_out = np.argmax(a_out, 0)  # 0 represents row wise \n",
    "    \n",
    "    labels = np.argmax(labels, 0)\n",
    "    \n",
    "    acc = np.mean(a_out == labels)*100\n",
    "    \n",
    "    return acc"
   ]
  },
  {
   "cell_type": "code",
   "execution_count": 61,
   "metadata": {},
   "outputs": [
    {
     "name": "stdout",
     "output_type": "stream",
     "text": [
      "Cost after 0 iterations is : 2.342320273751447\n"
     ]
    },
    {
     "name": "stderr",
     "output_type": "stream",
     "text": [
      "/tmp/ipykernel_6692/1771469432.py:67: RuntimeWarning: divide by zero encountered in log\n",
      "  cost = -(1/m)*np.sum(y*np.log(a2))\n",
      "/tmp/ipykernel_6692/1771469432.py:67: RuntimeWarning: invalid value encountered in multiply\n",
      "  cost = -(1/m)*np.sum(y*np.log(a2))\n"
     ]
    },
    {
     "name": "stdout",
     "output_type": "stream",
     "text": [
      "Cost after 2000 iterations is : 1.8524169162084319\n",
      "Cost after 4000 iterations is : 1.7463544250932217\n",
      "Cost after 6000 iterations is : 1.6958786915780948\n",
      "Cost after 8000 iterations is : 1.689996926170962\n",
      "Cost after 10000 iterations is : 1.6874242848935397\n",
      "Cost after 12000 iterations is : 1.6565971952398941\n",
      "Cost after 14000 iterations is : 1.6126923297582838\n",
      "Cost after 16000 iterations is : 1.6510001921743964\n",
      "Cost after 18000 iterations is : 1.5856441990547105\n"
     ]
    },
    {
     "data": {
      "image/png": "[encoded data removed]",
      "text/plain": [
       "<Figure size 432x288 with 1 Axes>"
      ]
     },
     "metadata": {
      "needs_background": "light"
     },
     "output_type": "display_data"
    }
   ],
   "source": [
    "iterations = 20000\n",
    "n_h = 64 #No. of hidden layers\n",
    "learning_rate = 0.7\n",
    "Parameters, Cost_list = model(X_train, Y_train, n_h = n_h, learning_rate = learning_rate, iterations = iterations)\n",
    "\n",
    "t = np.arange(0, iterations)\n",
    "plt.plot(t, Cost_list)\n",
    "plt.show()"
   ]
  },
  {
   "cell_type": "code",
   "execution_count": 70,
   "metadata": {},
   "outputs": [],
   "source": [
    "#Saving Weights for Main data set into filesystem\n",
    "import pickle\n",
    "filey = open(\"Main_dataset_Weights.bin\", \"wb\")\n",
    "pickle.dump(Parameters, filey)\n",
    "filey.close()"
   ]
  },
  {
   "cell_type": "code",
   "execution_count": 12,
   "metadata": {},
   "outputs": [
    {
     "ename": "SyntaxError",
     "evalue": "invalid syntax (3110079484.py, line 1)",
     "output_type": "error",
     "traceback": [
      "\u001b[0;36m  File \u001b[0;32m\"/tmp/ipykernel_7220/3110079484.py\"\u001b[0;36m, line \u001b[0;32m1\u001b[0m\n\u001b[0;31m    Q-7. Evaluate the performance of the following trained MLP models on the original (unaugmented)\u001b[0m\n\u001b[0m         ^\u001b[0m\n\u001b[0;31mSyntaxError\u001b[0m\u001b[0;31m:\u001b[0m invalid syntax\n"
     ]
    }
   ],
   "source": [
    "Q-7. Evaluate the performance of the following trained MLP models on the original (unaugmented)\n",
    "test set: [10 marks]\n",
    "(a) MLP model, trained on original training set"
   ]
  },
  {
   "cell_type": "code",
   "execution_count": 62,
   "metadata": {
    "scrolled": false
   },
   "outputs": [
    {
     "name": "stdout",
     "output_type": "stream",
     "text": [
      "Accuracy of Train Dataset 42.358000000000004 %\n",
      "Accuracy of Test Dataset 41.42 %\n"
     ]
    }
   ],
   "source": [
    "print(\"Accuracy of Train Dataset\", accuracy(X_train, Y_train, Parameters), \"%\")\n",
    "print(\"Accuracy of Test Dataset\", round(accuracy(X_test, Y_test, Parameters), 2), \"%\")"
   ]
  },
  {
   "cell_type": "markdown",
   "metadata": {},
   "source": [
    "Training Model on Augemented dataset extracted features  "
   ]
  },
  {
   "cell_type": "code",
   "execution_count": 64,
   "metadata": {},
   "outputs": [
    {
     "name": "stdout",
     "output_type": "stream",
     "text": [
      "shape of X_train : (512, 50000)\n",
      "shape of Y_train : (10, 50000)\n",
      "shape of X_test : (512, 10000)\n",
      "shape of Y_test : (10, 10000)\n"
     ]
    }
   ],
   "source": [
    "import numpy as np\n",
    "import matplotlib.pyplot as plt\n",
    "import random\n",
    "\n",
    "X_train = (featurev2).T  #Training(Augmented) dataset extracted feature vector\n",
    "Y_train = y_train.T      #one hot encoded class of training(Augmented) dataset\n",
    "\n",
    "X_test = (featurev3).T    #Test dataset extracted feature vector\n",
    "Y_test = y_test.T         #one hot encoded class of test dataset\n",
    "\n",
    "print(\"shape of X_train :\", X_train.shape)\n",
    "print(\"shape of Y_train :\", Y_train.shape)\n",
    "print(\"shape of X_test :\", X_test.shape)\n",
    "print(\"shape of Y_test :\", Y_test.shape)\n",
    "\n",
    "def relu(x):\n",
    "    return np.maximum(x, 0)\n",
    "\n",
    "def softmax(x):\n",
    "    expX = np.exp(x)\n",
    "    return expX/np.sum(expX, axis = 0)\n",
    "\n",
    "def derivative_relu(x):\n",
    "    return np.array(x > 0, dtype = np.float32)\n",
    "\n",
    "def initialize_parameters(n_x, n_h, n_y):\n",
    "    w1 = np.random.randn(n_h, n_x)*0.01\n",
    "    b1 = np.zeros((n_h, 1))\n",
    "    \n",
    "    w2 = np.random.randn(n_y, n_h)*0.01\n",
    "    b2 = np.zeros((n_y, 1))\n",
    "    \n",
    "    parameters = {\n",
    "        \"w1\" : w1,\n",
    "        \"b1\" : b1,\n",
    "        \"w2\" : w2,\n",
    "        \"b2\" : b2\n",
    "    }\n",
    "    \n",
    "    return parameters\n",
    "\n",
    "def forward_propagation(x, parameters):\n",
    "    \n",
    "    w1 = parameters['w1']\n",
    "    b1 = parameters['b1']\n",
    "    w2 = parameters['w2']\n",
    "    b2 = parameters['b2']\n",
    "    \n",
    "    z1 = np.dot(w1, x) + b1\n",
    "    a1 = relu(z1)\n",
    "    \n",
    "    z2 = np.dot(w2, a1) + b2\n",
    "    a2 = softmax(z2)\n",
    "    \n",
    "    forward_cache = {\n",
    "        \"z1\" : z1,\n",
    "        \"a1\" : a1,\n",
    "        \"z2\" : z2,\n",
    "        \"a2\" : a2\n",
    "    }\n",
    "    \n",
    "    return forward_cache\n",
    "\n",
    "def cost_function(a2, y):\n",
    "    m = y.shape[1]\n",
    "    \n",
    "    cost = -(1/m)*np.sum(y*np.log(a2))\n",
    "    \n",
    "    #cost = -(1/m)*np.sum(np.sum(y*np.log(a2, 0), 1))\n",
    "    \n",
    "    return cost\n",
    "\n",
    "def backward_prop(x, y, parameters, forward_cache):\n",
    "    \n",
    "    w1 = parameters['w1']\n",
    "    b1 = parameters['b1']\n",
    "    w2 = parameters['w2']\n",
    "    b2 = parameters['b2']\n",
    "    \n",
    "    a1 = forward_cache['a1']\n",
    "    a2 = forward_cache['a2']\n",
    "    \n",
    "    m = x.shape[1]\n",
    "    \n",
    "    dz2 = (a2 - y)\n",
    "    dw2 = (1/m)*np.dot(dz2, a1.T)\n",
    "    db2 = (1/m)*np.sum(dz2, axis = 1, keepdims = True)\n",
    "    \n",
    "    dz1 = (1/m)*np.dot(w2.T, dz2)*derivative_relu(a1)\n",
    "    dw1 = (1/m)*np.dot(dz1, x.T)\n",
    "    db1 = (1/m)*np.sum(dz1, axis = 1, keepdims = True)\n",
    "    \n",
    "    gradients = {\n",
    "        \"dw1\" : dw1,\n",
    "        \"db1\" : db1,\n",
    "        \"dw2\" : dw2,\n",
    "        \"db2\" : db2\n",
    "    }\n",
    "    \n",
    "    return gradients\n",
    "\n",
    "def update_parameters(parameters, gradients, learning_rate):\n",
    "    \n",
    "    w1 = parameters['w1']\n",
    "    b1 = parameters['b1']\n",
    "    w2 = parameters['w2']\n",
    "    b2 = parameters['b2']\n",
    "    \n",
    "    dw1 = gradients['dw1']\n",
    "    db1 = gradients['db1']\n",
    "    dw2 = gradients['dw2']\n",
    "    db2 = gradients['db2']\n",
    "    \n",
    "    w1 = w1 - learning_rate*dw1\n",
    "    b1 = b1 - learning_rate*db1\n",
    "    w2 = w2 - learning_rate*dw2\n",
    "    b2 = b2 - learning_rate*db2\n",
    "    \n",
    "    parameters = {\n",
    "        \"w1\" : w1,\n",
    "        \"b1\" : b1,\n",
    "        \"w2\" : w2,\n",
    "        \"b2\" : b2\n",
    "    }\n",
    "    \n",
    "    return parameters\n",
    "\n",
    "def model(x, y, n_h, learning_rate, iterations):\n",
    "    \n",
    "    n_x = x.shape[0]\n",
    "    n_y = y.shape[0]\n",
    "    \n",
    "    cost_list = []\n",
    "    \n",
    "    parameters = initialize_parameters(n_x, n_h, n_y)\n",
    "    \n",
    "    for i in range(iterations):\n",
    "        \n",
    "        forward_cache = forward_propagation(x, parameters)\n",
    "        \n",
    "        cost = cost_function(forward_cache['a2'], y)\n",
    "        \n",
    "        gradients = backward_prop(x, y, parameters, forward_cache)\n",
    "        \n",
    "        parameters = update_parameters(parameters, gradients, learning_rate)\n",
    "        \n",
    "        cost_list.append(cost)\n",
    "        \n",
    "        if(i%(iterations/10) == 0):\n",
    "            print(\"Cost after\", i, \"iterations is :\", cost)\n",
    "        \n",
    "    return parameters, cost_list\n",
    "\n",
    "def accuracy(inp, labels, parameters):\n",
    "    forward_cache = forward_propagation(inp, parameters)\n",
    "    a_out = forward_cache['a2']   # containes propabilities with shape(10, 1)\n",
    "    \n",
    "    a_out = np.argmax(a_out, 0)  # 0 represents row wise \n",
    "    \n",
    "    labels = np.argmax(labels, 0)\n",
    "    \n",
    "    acc = np.mean(a_out == labels)*100\n",
    "    \n",
    "    return acc"
   ]
  },
  {
   "cell_type": "code",
   "execution_count": 11,
   "metadata": {},
   "outputs": [
    {
     "name": "stdout",
     "output_type": "stream",
     "text": [
      "Cost after 0 iterations is : 2.374741482402226\n"
     ]
    },
    {
     "name": "stderr",
     "output_type": "stream",
     "text": [
      "/tmp/ipykernel_7220/1771469432.py:67: RuntimeWarning: divide by zero encountered in log\n",
      "  cost = -(1/m)*np.sum(y*np.log(a2))\n",
      "/tmp/ipykernel_7220/1771469432.py:67: RuntimeWarning: invalid value encountered in multiply\n",
      "  cost = -(1/m)*np.sum(y*np.log(a2))\n"
     ]
    },
    {
     "name": "stdout",
     "output_type": "stream",
     "text": [
      "Cost after 1000 iterations is : 1.865833264274828\n",
      "Cost after 2000 iterations is : 1.808928949925249\n",
      "Cost after 3000 iterations is : 1.775087456402229\n",
      "Cost after 4000 iterations is : 1.7380029624498168\n",
      "Cost after 5000 iterations is : 1.715082783277394\n",
      "Cost after 6000 iterations is : 1.696249089190531\n",
      "Cost after 7000 iterations is : 1.6883462815578771\n",
      "Cost after 8000 iterations is : 1.6631369122138422\n",
      "Cost after 9000 iterations is : 1.6589341442859802\n"
     ]
    },
    {
     "data": {
      "image/png": "[encoded data removed]",
      "text/plain": [
       "<Figure size 432x288 with 1 Axes>"
      ]
     },
     "metadata": {
      "needs_background": "light"
     },
     "output_type": "display_data"
    }
   ],
   "source": [
    "iterations = 10000\n",
    "n_h = 64 #No. of hidden layers\n",
    "learning_rate = 0.7\n",
    "Parameters, Cost_list = model(X_train, Y_train, n_h = n_h, learning_rate = learning_rate, iterations = iterations)\n",
    "\n",
    "t = np.arange(0, iterations)\n",
    "plt.plot(t, Cost_list)\n",
    "plt.show()"
   ]
  },
  {
   "cell_type": "markdown",
   "metadata": {},
   "source": [
    "Q-7. Evaluate the performance of the following trained MLP models on the original (augmented)\n",
    "test set: [10 marks]\n",
    "(b) MLP model, trained on augmented training set"
   ]
  },
  {
   "cell_type": "code",
   "execution_count": 15,
   "metadata": {
    "scrolled": true
   },
   "outputs": [
    {
     "name": "stdout",
     "output_type": "stream",
     "text": [
      "Accuracy of Train Dataset 41.510000000000005 %\n",
      "Accuracy of Test Dataset 40.38 %\n"
     ]
    }
   ],
   "source": [
    "print(\"Accuracy of Train Dataset\", accuracy(X_train, Y_train, Parameters), \"%\")\n",
    "print(\"Accuracy of Test Dataset\", round(accuracy(X_test, Y_test, Parameters), 2), \"%\")"
   ]
  },
  {
   "cell_type": "code",
   "execution_count": 16,
   "metadata": {},
   "outputs": [],
   "source": [
    "#Saving Weights for Augmented data set into filesystem\n",
    "import pickle\n",
    "filey = open(\"Aug_dataset_Weights.bin\", \"wb\")\n",
    "pickle.dump(Parameters, filey)\n",
    "filey.close()"
   ]
  }
 ],
 "metadata": {
  "kernelspec": {
   "display_name": "Python 3 (ipykernel)",
   "language": "python",
   "name": "python3"
  },
  "language_info": {
   "codemirror_mode": {
    "name": "ipython",
    "version": 3
   },
   "file_extension": ".py",
   "mimetype": "text/x-python",
   "name": "python",
   "nbconvert_exporter": "python",
   "pygments_lexer": "ipython3",
   "version": "3.9.7"
  }
 },
 "nbformat": 4,
 "nbformat_minor": 2
}
